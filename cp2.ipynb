{
 "cells": [
  {
   "cell_type": "code",
   "execution_count": 2,
   "metadata": {},
   "outputs": [],
   "source": [
    "import pandas as pd\n",
    "import numpy as np\n",
    "import matplotlib.pyplot as plt\n",
    "from sklearn.feature_extraction.text import CountVectorizer\n",
    "from sklearn.feature_extraction.text import TfidfVectorizer\n",
    "from sklearn.neighbors import KNeighborsClassifier\n",
    "from sklearn.linear_model import LinearRegression\n",
    "from sklearn.ensemble import RandomForestClassifier\n",
    "from sklearn.linear_model import LogisticRegression\n",
    "from sklearn import svm"
   ]
  },
  {
   "cell_type": "code",
   "execution_count": 3,
   "metadata": {},
   "outputs": [],
   "source": [
    "df_train = pd.read_csv('training_data.csv')\n",
    "df_test = pd.read_csv('test_data.csv')\n",
    "\n",
    "text_train=df_train['text']\n",
    "\n",
    "Vectorizer=TfidfVectorizer(stop_words='english')\n",
    "Vectorizer.fit(text_train)\n",
    "X_train=Vectorizer.transform(text_train)\n",
    "\n",
    "y_train=df_train['stars']\n",
    "text_test=df_test['text']\n",
    "X_test=Vectorizer.transform(text_test).toarray()\n",
    "\n",
    "#ids_train = df_train[[\"business_id\"]].values\n",
    "#ids_test=df_test[[\"business_id\"]].values\n",
    "\n",
    "#all_X_train=np.hstack((X_train,ids_train))\n",
    "#all_X_test=np.hstack((X_test,ids_test))\n",
    "\n",
    "y_id= df_test['review_id'].values"
   ]
  },
  {
   "cell_type": "code",
   "execution_count": 4,
   "metadata": {},
   "outputs": [],
   "source": [
    "classifier2=LogisticRegression(penalty='l1',C=2.0,intercept_scaling=0.25,warm_start=True)\n",
    "classifier2.fit(X_train,y_train)\n",
    "y_test2=classifier2.predict(X_test)"
   ]
  },
  {
   "cell_type": "code",
   "execution_count": 5,
   "metadata": {},
   "outputs": [],
   "source": [
    "classifier3=LinearRegression(fit_intercept=True,normalize=True)\n",
    "classifier3.fit(X_train,y_train)\n",
    "y_test3=classifier3.predict(X_test)"
   ]
  },
  {
   "cell_type": "code",
   "execution_count": 6,
   "metadata": {},
   "outputs": [],
   "source": [
    "for i in range(len(y_test3)):\n",
    "\tif y_test3[i]>5:\n",
    "\t\ty_test3[i]=5\n",
    "\tif y_test3[i]<1:\n",
    "\t\ty_test3[i]=1"
   ]
  },
  {
   "cell_type": "code",
   "execution_count": null,
   "metadata": {},
   "outputs": [],
   "source": [
    "#classifier1=RandomForestClassifier(n_estimators=200,max_features=None)\n",
    "#classifier1.fit(X_train,y_train)\n",
    "#y_test1=classifier1.predict(X_test)"
   ]
  },
  {
   "cell_type": "code",
   "execution_count": null,
   "metadata": {},
   "outputs": [],
   "source": [
    "#classifier4=KNeighborsClassifier(n_neighbors=50,weights='distance',leaf_size=30,algorithm='brute')\n",
    "#classifier4.fit(X_train,y_train)\n",
    "#y_test4=classifier4.predict(X_test)"
   ]
  },
  {
   "cell_type": "code",
   "execution_count": 7,
   "metadata": {},
   "outputs": [],
   "source": [
    "classifier5=svm.SVC(kernel='linear',C=1.15,probability=True)\n",
    "classifier5.fit(X_train,y_train)\n",
    "y_test5=classifier5.predict(X_test)"
   ]
  },
  {
   "cell_type": "code",
   "execution_count": 9,
   "metadata": {},
   "outputs": [],
   "source": [
    "classifier6=svm.SVR(kernel='linear',C=1.15)\n",
    "classifier6.fit(X_train,y_train)\n",
    "y_test6=classifier6.predict(X_test)"
   ]
  },
  {
   "cell_type": "code",
   "execution_count": 10,
   "metadata": {},
   "outputs": [],
   "source": [
    "for i in range(len(y_test6)):\n",
    "\tif y_test6[i]>5:\n",
    "\t\ty_test6[i]=5\n",
    "\tif y_test6[i]<1:\n",
    "\t\ty_test6[i]=1"
   ]
  },
  {
   "cell_type": "code",
   "execution_count": 11,
   "metadata": {},
   "outputs": [],
   "source": [
    "classifier7=svm.LinearSVC(loss='hinge')\n",
    "classifier7.fit(X_train,y_train)\n",
    "y_test7=classifier7.predict(X_test)"
   ]
  },
  {
   "cell_type": "code",
   "execution_count": 12,
   "metadata": {},
   "outputs": [],
   "source": [
    "classifier8=svm.LinearSVR(C=0.95,loss='squared_epsilon_insensitive',epsilon=0.2,dual=False,fit_intercept=True,intercept_scaling=2)\n",
    "classifier8.fit(X_train,y_train)\n",
    "y_test8=classifier8.predict(X_test)\n",
    "\n"
   ]
  },
  {
   "cell_type": "code",
   "execution_count": 13,
   "metadata": {},
   "outputs": [],
   "source": [
    "for i in range(len(y_test8)):\n",
    "\tif y_test8[i]>5:\n",
    "\t\ty_test8[i]=5\n",
    "\tif y_test8[i]<1:\n",
    "\t\ty_test8[i]=1"
   ]
  },
  {
   "cell_type": "code",
   "execution_count": 20,
   "metadata": {},
   "outputs": [],
   "source": [
    "pred=[]\n",
    "for i in range(df_test.shape[0]):\n",
    "    if y_test2[i]==y_test5[i]==y_test7[i]:\n",
    "        pred.append(y_test2[i])\n",
    "    elif abs(y_test5[i]-y_test8[i])>=abs(y_test2[i]-y_test8[i]) and abs(y_test7[i]-y_test8[i])>=abs(y_test2[i]-y_test8[i]):\n",
    "        pred.append(y_test2[i])\n",
    "    elif abs(y_test2[i]-y_test8[i])>=abs(y_test5[i]-y_test8[i]) and abs(y_test7[i]-y_test8[i])>=abs(y_test5[i]-y_test8[i]):\n",
    "        pred.append(y_test5[i])\n",
    "    elif abs(y_test2[i]-y_test8[i])>=abs(y_test7[i]-y_test8[i]) and abs(y_test5[i]-y_test8[i])>=abs(y_test7[i]-y_test8[i]):\n",
    "        pred.append(y_test7[i])\n",
    "    \n",
    "        "
   ]
  },
  {
   "cell_type": "code",
   "execution_count": 15,
   "metadata": {},
   "outputs": [],
   "source": [
    "#最好的  Rmse:0.8561 accurancy:0.4473   方法:svm.LinearSVR\n",
    "result = pd.DataFrame(np.column_stack((y_id.tolist(),y_test8.tolist())))\n",
    "result.to_csv('result1.csv',index=False)"
   ]
  },
  {
   "cell_type": "code",
   "execution_count": 22,
   "metadata": {},
   "outputs": [],
   "source": [
    "#用ˋ4個模型:LogisticRegression,svm.SVC,LinearSVC,svm.LinearSVR  Rmse:0.8661 accurancy:0.5352\n",
    "result= pd.DataFrame(np.column_stack((y_id.tolist(),pred)))\n",
    "result.to_csv('result2.csv',index=False)"
   ]
  }
 ],
 "metadata": {
  "kernelspec": {
   "display_name": "Python 3",
   "language": "python",
   "name": "python3"
  },
  "language_info": {
   "codemirror_mode": {
    "name": "ipython",
    "version": 3
   },
   "file_extension": ".py",
   "mimetype": "text/x-python",
   "name": "python",
   "nbconvert_exporter": "python",
   "pygments_lexer": "ipython3",
   "version": "3.5.2"
  }
 },
 "nbformat": 4,
 "nbformat_minor": 2
}
